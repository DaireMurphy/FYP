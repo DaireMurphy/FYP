{
 "cells": [
  {
   "cell_type": "code",
   "execution_count": 5,
   "metadata": {},
   "outputs": [],
   "source": [
    "import pandas as pd\n",
    "import nltk\n",
    "from gensim.models import Word2Vec, KeyedVectors, FastText"
   ]
  },
  {
   "cell_type": "markdown",
   "metadata": {},
   "source": [
    "### Reading in Dataset, Tokenising and training models using Word2Vec Algorithm and FastText and comparing. "
   ]
  },
  {
   "cell_type": "code",
   "execution_count": 2,
   "metadata": {},
   "outputs": [],
   "source": [
    "df = pd.read_csv('RedditNews.csv')"
   ]
  },
  {
   "cell_type": "code",
   "execution_count": 3,
   "metadata": {},
   "outputs": [
    {
     "data": {
      "text/plain": [
       "0                    Scores killed in Pakistan clashes\n",
       "1                     Japan resumes refuelling mission\n",
       "2                      US presses Egypt on Gaza border\n",
       "3         Jump-start economy: Give health care to all \n",
       "4      Council of Europe bashes EU&UN terror blacklist\n",
       "5    Hay presto! Farmer unveils the  illegal  mock-...\n",
       "6    Strikes, Protests and Gridlock at the Poland-U...\n",
       "7                       The U.N. Mismanagement Program\n",
       "8            Nicolas Sarkozy threatens to sue Ryanair \n",
       "9    US plans for missile shields in Polish town me...\n",
       "Name: title, dtype: object"
      ]
     },
     "execution_count": 3,
     "metadata": {},
     "output_type": "execute_result"
    }
   ],
   "source": [
    "newTitles = df[\"title\"]\n",
    "newTitles.head(10)"
   ]
  },
  {
   "cell_type": "code",
   "execution_count": 4,
   "metadata": {},
   "outputs": [],
   "source": [
    "newsVec = [nltk.word_tokenize(title) for title in newTitles]"
   ]
  },
  {
   "cell_type": "code",
   "execution_count": 12,
   "metadata": {},
   "outputs": [],
   "source": [
    "model = FastText(newsVec,min_count=2,size=300,workers=6)"
   ]
  },
  {
   "cell_type": "code",
   "execution_count": 13,
   "metadata": {},
   "outputs": [
    {
     "data": {
      "text/plain": [
       "[('woman', 0.925896406173706),\n",
       " ('pitchman', 0.914860725402832),\n",
       " ('roman', 0.9096481204032898),\n",
       " ('bogeyman', 0.9065337181091309),\n",
       " ('noblewoman', 0.9021779298782349),\n",
       " ('anchorwoman', 0.9014755487442017),\n",
       " ('camerawoman', 0.899470329284668),\n",
       " ('madman', 0.8947786688804626),\n",
       " ('chairwoman', 0.8927867412567139),\n",
       " ('stuntman', 0.8890703916549683)]"
      ]
     },
     "execution_count": 13,
     "metadata": {},
     "output_type": "execute_result"
    }
   ],
   "source": [
    "model.wv.most_similar('man')"
   ]
  },
  {
   "cell_type": "code",
   "execution_count": 14,
   "metadata": {},
   "outputs": [],
   "source": [
    "modelWord = Word2Vec(newsVec,min_count=2,size=300,workers=6)"
   ]
  },
  {
   "cell_type": "code",
   "execution_count": 15,
   "metadata": {},
   "outputs": [
    {
     "data": {
      "text/plain": [
       "[('woman', 0.8762609958648682),\n",
       " ('teenager', 0.8038941621780396),\n",
       " ('boy', 0.7989271879196167),\n",
       " ('girl', 0.7948303818702698),\n",
       " ('couple', 0.7735875844955444),\n",
       " ('doctor', 0.7348984479904175),\n",
       " ('teen', 0.7311832904815674),\n",
       " ('mother', 0.7158790826797485),\n",
       " ('policeman', 0.7144094705581665),\n",
       " ('cop', 0.7086286544799805)]"
      ]
     },
     "execution_count": 15,
     "metadata": {},
     "output_type": "execute_result"
    }
   ],
   "source": [
    "modelWord.wv.most_similar('man')"
   ]
  },
  {
   "cell_type": "code",
   "execution_count": 16,
   "metadata": {},
   "outputs": [
    {
     "name": "stderr",
     "output_type": "stream",
     "text": [
      "D:\\Anaconda\\lib\\site-packages\\smart_open\\smart_open_lib.py:398: UserWarning: This function is deprecated, use smart_open.open instead. See the migration notes for details: https://github.com/RaRe-Technologies/smart_open/blob/master/README.rst#migrating-to-the-new-open-function\n",
      "  'See the migration notes for details: %s' % _MIGRATION_NOTES_URL\n"
     ]
    }
   ],
   "source": [
    "modelWord.save('Word2Vec300D.bin')"
   ]
  },
  {
   "cell_type": "code",
   "execution_count": null,
   "metadata": {},
   "outputs": [],
   "source": []
  }
 ],
 "metadata": {
  "kernelspec": {
   "display_name": "Python 3",
   "language": "python",
   "name": "python3"
  },
  "language_info": {
   "codemirror_mode": {
    "name": "ipython",
    "version": 3
   },
   "file_extension": ".py",
   "mimetype": "text/x-python",
   "name": "python",
   "nbconvert_exporter": "python",
   "pygments_lexer": "ipython3",
   "version": "3.7.1"
  }
 },
 "nbformat": 4,
 "nbformat_minor": 2
}
