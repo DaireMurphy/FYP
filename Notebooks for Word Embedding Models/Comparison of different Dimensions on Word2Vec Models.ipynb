{
 "cells": [
  {
   "cell_type": "markdown",
   "metadata": {},
   "source": [
    "## Creating an embedding model"
   ]
  },
  {
   "cell_type": "code",
   "execution_count": 1,
   "metadata": {},
   "outputs": [
    {
     "name": "stderr",
     "output_type": "stream",
     "text": [
      "D:\\Anaconda\\lib\\site-packages\\gensim\\utils.py:1197: UserWarning: detected Windows; aliasing chunkize to chunkize_serial\n",
      "  warnings.warn(\"detected Windows; aliasing chunkize to chunkize_serial\")\n"
     ]
    }
   ],
   "source": [
    "import pandas as pd\n",
    "import nltk\n",
    "from gensim.models import Word2Vec, KeyedVectors"
   ]
  },
  {
   "cell_type": "code",
   "execution_count": 2,
   "metadata": {},
   "outputs": [],
   "source": [
    "#www.kaggle.com%2Frootuser%2Fworldnews-on-reddit&redir_token=as6U9M3kE6GE1UIujlz_WlLagNp8MTU3MTA3MjY0NEAxNTcwOTg2MjQ0&v=Z1VsHYcNXDI\n",
    "df = pd.read_csv('RedditNews.csv')"
   ]
  },
  {
   "cell_type": "code",
   "execution_count": 21,
   "metadata": {},
   "outputs": [
    {
     "data": {
      "text/plain": [
       "0                  Scores killed in Pakistan clashes\n",
       "1                   Japan resumes refuelling mission\n",
       "2                    US presses Egypt on Gaza border\n",
       "3       Jump-start economy: Give health care to all \n",
       "4    Council of Europe bashes EU&UN terror blacklist\n",
       "Name: title, dtype: object"
      ]
     },
     "execution_count": 21,
     "metadata": {},
     "output_type": "execute_result"
    }
   ],
   "source": [
    "df.title.head()"
   ]
  },
  {
   "cell_type": "code",
   "execution_count": 4,
   "metadata": {},
   "outputs": [
    {
     "data": {
      "text/plain": [
       "0                    Scores killed in Pakistan clashes\n",
       "1                     Japan resumes refuelling mission\n",
       "2                      US presses Egypt on Gaza border\n",
       "3         Jump-start economy: Give health care to all \n",
       "4      Council of Europe bashes EU&UN terror blacklist\n",
       "5    Hay presto! Farmer unveils the  illegal  mock-...\n",
       "6    Strikes, Protests and Gridlock at the Poland-U...\n",
       "7                       The U.N. Mismanagement Program\n",
       "8            Nicolas Sarkozy threatens to sue Ryanair \n",
       "9    US plans for missile shields in Polish town me...\n",
       "Name: title, dtype: object"
      ]
     },
     "execution_count": 4,
     "metadata": {},
     "output_type": "execute_result"
    }
   ],
   "source": [
    "newTitles = df[\"title\"]\n",
    "newTitles.head(10)"
   ]
  },
  {
   "cell_type": "code",
   "execution_count": 5,
   "metadata": {},
   "outputs": [
    {
     "name": "stderr",
     "output_type": "stream",
     "text": [
      "[nltk_data] Downloading package punkt to\n",
      "[nltk_data]     C:\\Users\\Daire\\AppData\\Roaming\\nltk_data...\n",
      "[nltk_data]   Package punkt is already up-to-date!\n"
     ]
    },
    {
     "data": {
      "text/plain": [
       "True"
      ]
     },
     "execution_count": 5,
     "metadata": {},
     "output_type": "execute_result"
    }
   ],
   "source": [
    "nltk.download('punkt')"
   ]
  },
  {
   "cell_type": "code",
   "execution_count": 6,
   "metadata": {},
   "outputs": [],
   "source": [
    "newsVec = [nltk.word_tokenize(title) for title in newTitles]"
   ]
  },
  {
   "cell_type": "markdown",
   "metadata": {},
   "source": [
    "## Setting the size of each word array to 32, 100 and 300"
   ]
  },
  {
   "cell_type": "code",
   "execution_count": 7,
   "metadata": {},
   "outputs": [],
   "source": [
    "model = Word2Vec(newsVec,min_count=2,size=100,workers=6)"
   ]
  },
  {
   "cell_type": "code",
   "execution_count": 16,
   "metadata": {},
   "outputs": [
    {
     "data": {
      "text/plain": [
       "[('battle', 0.7808846235275269),\n",
       " ('combat', 0.6670180559158325),\n",
       " ('fighting', 0.6517038941383362),\n",
       " ('drive', 0.6436817049980164),\n",
       " ('struggle', 0.6430230140686035),\n",
       " ('defend', 0.6166219115257263),\n",
       " ('push', 0.6097429990768433),\n",
       " ('unite', 0.6061421632766724),\n",
       " ('jihad', 0.6009969711303711),\n",
       " ('help', 0.5933507084846497)]"
      ]
     },
     "execution_count": 16,
     "metadata": {},
     "output_type": "execute_result"
    }
   ],
   "source": [
    "model.wv.most_similar('fight')"
   ]
  },
  {
   "cell_type": "code",
   "execution_count": 9,
   "metadata": {},
   "outputs": [],
   "source": [
    "model32D = Word2Vec(newsVec,min_count=2,size=32,workers=6)"
   ]
  },
  {
   "cell_type": "code",
   "execution_count": 17,
   "metadata": {},
   "outputs": [
    {
     "data": {
      "text/plain": [
       "[('battle', 0.8541587591171265),\n",
       " ('combat', 0.7772133350372314),\n",
       " ('help', 0.7557402849197388),\n",
       " ('jihad', 0.7279974222183228),\n",
       " ('action', 0.7224878072738647),\n",
       " ('struggle', 0.7059935331344604),\n",
       " ('act', 0.7059839963912964),\n",
       " ('drive', 0.704018235206604),\n",
       " ('force', 0.6984035968780518),\n",
       " ('defeat', 0.6966208219528198)]"
      ]
     },
     "execution_count": 17,
     "metadata": {},
     "output_type": "execute_result"
    }
   ],
   "source": [
    "model32D.wv.most_similar('fight')"
   ]
  },
  {
   "cell_type": "code",
   "execution_count": 11,
   "metadata": {},
   "outputs": [],
   "source": [
    "model300D = Word2Vec(newsVec,min_count=2,size=300,workers=6)"
   ]
  },
  {
   "cell_type": "code",
   "execution_count": 18,
   "metadata": {},
   "outputs": [
    {
     "data": {
      "text/plain": [
       "[('battle', 0.7495102882385254),\n",
       " ('combat', 0.6505259275436401),\n",
       " ('struggle', 0.6240625381469727),\n",
       " ('drive', 0.6193752288818359),\n",
       " ('fighting', 0.6162401437759399),\n",
       " ('defend', 0.609923243522644),\n",
       " ('push', 0.60378098487854),\n",
       " ('unite', 0.590820848941803),\n",
       " ('jihad', 0.5882191061973572),\n",
       " ('help', 0.5602603554725647)]"
      ]
     },
     "execution_count": 18,
     "metadata": {},
     "output_type": "execute_result"
    }
   ],
   "source": [
    "model300D.wv.most_similar('fight')"
   ]
  },
  {
   "cell_type": "code",
   "execution_count": 20,
   "metadata": {},
   "outputs": [
    {
     "data": {
      "text/plain": [
       "[('king', 0.7944562435150146),\n",
       " ('prince', 0.6875837445259094),\n",
       " ('royal', 0.6504291296005249),\n",
       " ('monarchy', 0.6342084407806396),\n",
       " ('King', 0.6113573908805847),\n",
       " ('cleric', 0.6091814041137695),\n",
       " ('blogger', 0.6068893074989319),\n",
       " ('princess', 0.5975726842880249),\n",
       " ('woman', 0.5911681652069092),\n",
       " ('writer', 0.5536376237869263)]"
      ]
     },
     "execution_count": 20,
     "metadata": {},
     "output_type": "execute_result"
    }
   ],
   "source": [
    "vec = model.wv['king'] - model.wv['man'] + model.wv['woman']\n",
    "model.wv.most_similar([vec])"
   ]
  },
  {
   "cell_type": "code",
   "execution_count": 12,
   "metadata": {},
   "outputs": [
    {
     "data": {
      "text/plain": [
       "array([-2.3647153 , -1.1890237 , -2.8195045 ,  3.453629  , -2.7788239 ,\n",
       "       -1.1734895 , -3.9952478 , -2.1892087 , -2.673888  , -4.1839976 ,\n",
       "        2.208772  ,  2.5605032 , -1.7922533 ,  6.2525806 , -4.612112  ,\n",
       "       -1.2017517 ,  0.05900666,  0.95054597, -0.15247604, -2.7120483 ,\n",
       "       -2.0474372 , -3.2143793 ,  1.7930608 , -0.49172878,  3.9575436 ,\n",
       "       -1.3503927 ,  2.4106054 , -3.7875342 ,  3.1670072 ,  0.40901592,\n",
       "        0.11423903,  0.24141122], dtype=float32)"
      ]
     },
     "execution_count": 12,
     "metadata": {},
     "output_type": "execute_result"
    }
   ],
   "source": [
    "model.wv['man']"
   ]
  }
 ],
 "metadata": {
  "kernelspec": {
   "display_name": "Python 3",
   "language": "python",
   "name": "python3"
  },
  "language_info": {
   "codemirror_mode": {
    "name": "ipython",
    "version": 3
   },
   "file_extension": ".py",
   "mimetype": "text/x-python",
   "name": "python",
   "nbconvert_exporter": "python",
   "pygments_lexer": "ipython3",
   "version": "3.7.1"
  }
 },
 "nbformat": 4,
 "nbformat_minor": 2
}
