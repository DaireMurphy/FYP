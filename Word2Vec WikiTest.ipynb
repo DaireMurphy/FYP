{
 "cells": [
  {
   "cell_type": "code",
   "execution_count": 1,
   "metadata": {},
   "outputs": [
    {
     "name": "stderr",
     "output_type": "stream",
     "text": [
      "D:\\Anaconda\\lib\\site-packages\\gensim\\utils.py:1197: UserWarning: detected Windows; aliasing chunkize to chunkize_serial\n",
      "  warnings.warn(\"detected Windows; aliasing chunkize to chunkize_serial\")\n"
     ]
    }
   ],
   "source": [
    "import pandas as pd\n",
    "import nltk\n",
    "from gensim.models import Word2Vec, KeyedVectors"
   ]
  },
  {
   "cell_type": "code",
   "execution_count": 20,
   "metadata": {},
   "outputs": [],
   "source": [
    "model = KeyedVectors.load_word2vec_format('wiki100k-w2v.cbow.bin', binary=True)"
   ]
  },
  {
   "cell_type": "code",
   "execution_count": 26,
   "metadata": {},
   "outputs": [
    {
     "data": {
      "text/plain": [
       "[('prostitute', 0.697263777256012),\n",
       " ('fairies', 0.6904631853103638),\n",
       " ('luck', 0.6847440004348755),\n",
       " ('marries', 0.682253360748291),\n",
       " ('darkside', 0.661789059638977),\n",
       " ('beasts', 0.6607599258422852),\n",
       " ('sorcerer', 0.6604461669921875),\n",
       " ('affections', 0.6603336334228516),\n",
       " ('nightmares', 0.6561664342880249),\n",
       " ('afraid', 0.6532609462738037)]"
      ]
     },
     "execution_count": 26,
     "metadata": {},
     "output_type": "execute_result"
    }
   ],
   "source": [
    "model.most_similar('man')"
   ]
  },
  {
   "cell_type": "code",
   "execution_count": 12,
   "metadata": {},
   "outputs": [
    {
     "name": "stdout",
     "output_type": "stream",
     "text": [
      "-- Word: ireland\n",
      "Results: [('dublin', 0.7534447908401489), ('ulster', 0.7404106855392456), ('armagh', 0.7334527969360352), ('antrim', 0.7327698469161987), ('cork', 0.7273780107498169), ('wexford', 0.7237760424613953), ('irish', 0.7182273268699646), ('fermanagh', 0.714331865310669), ('donegal', 0.7118326425552368), ('limerick', 0.7116841077804565)]\n",
      "-- Word: election\n",
      "Results: [('elections', 0.9075145721435547), ('candidate', 0.8289476633071899), ('re_elected', 0.8184101581573486), ('by_election', 0.8072953820228577), ('votes', 0.7884584665298462), ('liberals', 0.7849600911140442), ('by_elections', 0.7796555161476135), ('unopposed', 0.7795870304107666), ('conservatives', 0.7748485803604126), ('incumbent', 0.7701159715652466)]\n",
      "-- Word: music\n",
      "Results: [('musical', 0.7612130641937256), ('jazz', 0.70732182264328), ('dance', 0.6928324103355408), ('techno', 0.688461184501648), ('improvisational', 0.6818850040435791), ('djs', 0.6805185675621033), ('songwriters', 0.6774226427078247), ('sanguma', 0.6691710948944092), ('choral', 0.665225625038147), ('vocal', 0.6635710000991821)]\n",
      "-- Word: software\n",
      "Results: [('linux', 0.8163370490074158), ('server', 0.8053147196769714), ('microsoft', 0.7966086864471436), ('proprietary', 0.793923020362854), ('hardware', 0.7915807962417603), ('x86', 0.7902050018310547), ('api', 0.7880398035049438), ('open_source', 0.7875779271125793), ('bsd', 0.7875571846961975), ('mainframe', 0.7831377983093262)]\n"
     ]
    }
   ],
   "source": [
    "words = [ \"ireland\", \"election\", \"music\", \"software\" ]\n",
    "for word in words:\n",
    "    print(\"-- Word: %s\" % word)\n",
    "    result = model.most_similar(positive=word)\n",
    "    print(\"Results: %s\" % result)"
   ]
  },
  {
   "cell_type": "code",
   "execution_count": 14,
   "metadata": {},
   "outputs": [
    {
     "data": {
      "text/plain": [
       "[('london', 0.7753682136535645),\n",
       " ('scotland', 0.6502821445465088),\n",
       " ('england', 0.6446815133094788),\n",
       " ('britain', 0.627328634262085),\n",
       " ('uk', 0.6051129102706909),\n",
       " ('manchester', 0.6010940670967102),\n",
       " ('ireland', 0.5982864499092102),\n",
       " ('kingdom', 0.5972533226013184),\n",
       " ('philatelic', 0.5763951539993286),\n",
       " ('guernsey', 0.5710145235061646)]"
      ]
     },
     "execution_count": 14,
     "metadata": {},
     "output_type": "execute_result"
    }
   ],
   "source": [
    "vec = model['ireland'] - model['dublin'] + model['london']\n",
    "model.most_similar([vec])"
   ]
  },
  {
   "cell_type": "code",
   "execution_count": 19,
   "metadata": {},
   "outputs": [
    {
     "data": {
      "text/plain": [
       "[('drum', 0.7615472078323364),\n",
       " ('electronica', 0.6852920055389404),\n",
       " ('techno', 0.6805846691131592),\n",
       " ('electro', 0.6737380027770996),\n",
       " ('synthpop', 0.6624655723571777),\n",
       " ('disco', 0.6517584323883057),\n",
       " ('grunge', 0.6484205722808838),\n",
       " ('reggae', 0.6447668075561523),\n",
       " ('trance', 0.6396278738975525),\n",
       " ('hop', 0.6379693746566772)]"
      ]
     },
     "execution_count": 19,
     "metadata": {},
     "output_type": "execute_result"
    }
   ],
   "source": [
    "vec2 = model['music'] - model['piano'] + model['drum']\n",
    "model.most_similar([vec2])"
   ]
  },
  {
   "cell_type": "code",
   "execution_count": null,
   "metadata": {},
   "outputs": [],
   "source": []
  }
 ],
 "metadata": {
  "kernelspec": {
   "display_name": "Python 3",
   "language": "python",
   "name": "python3"
  },
  "language_info": {
   "codemirror_mode": {
    "name": "ipython",
    "version": 3
   },
   "file_extension": ".py",
   "mimetype": "text/x-python",
   "name": "python",
   "nbconvert_exporter": "python",
   "pygments_lexer": "ipython3",
   "version": "3.7.1"
  }
 },
 "nbformat": 4,
 "nbformat_minor": 2
}
